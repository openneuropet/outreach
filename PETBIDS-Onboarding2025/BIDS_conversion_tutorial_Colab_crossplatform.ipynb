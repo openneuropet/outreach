{
 "cells": [
  {
   "cell_type": "markdown",
   "metadata": {
    "id": "kMQm1VCgU2Ol"
   },
   "source": [
    "# Brain Imaging Data Structure (BIDS) tutorial on data conversion\n",
    "\n",
    "In the following Jupyter notebook, we will introduce you to BIDS basics. You will download some phantom data in neuroimaging formats as they come of a scanner and then work on converting it to BIDS format."
   ]
  },
  {
   "cell_type": "markdown",
   "metadata": {
    "id": "7NdRZg4Q4wUs"
   },
   "source": [
    "## Collect the Repository and Install all Dependencies\n",
    "This may take some time."
   ]
  },
  {
   "cell_type": "code",
   "execution_count": 1,
   "metadata": {
    "colab": {
     "base_uri": "https://localhost:8080/"
    },
    "id": "XpjaKOjI3VsN",
    "outputId": "41cbac46-7d21-414c-88d2-887903af0610"
   },
   "outputs": [
    {
     "name": "stdout",
     "output_type": "stream",
     "text": [
      "Repo already cloned. Pulling latest changes...\n"
     ]
    }
   ],
   "source": [
    "# Cross-platform repo setup (Python only, no shell commands)\n",
    "import os\n",
    "import sys\n",
    "import subprocess\n",
    "\n",
    "# Clone outreach repo if not present\n",
    "repo_path = os.path.abspath(os.path.join(os.getcwd(), '..', 'outreach'))\n",
    "if not os.path.exists(repo_path):\n",
    "    print('Cloning Outreach Repository...')\n",
    "    subprocess.run(['git', 'clone', 'https://github.com/openneuropet/outreach.git', repo_path])\n",
    "else:\n",
    "    print('Repo already cloned. Pulling latest changes...')\n",
    "    subprocess.run(['git', '-C', repo_path, 'pull'])\n",
    "\n",
    "# Change directory to PETBIDS-Onboarding2025 if needed\n",
    "target_dir = os.path.join(repo_path, 'PETBIDS-Onboarding2025')\n",
    "if os.path.basename(os.getcwd()) != 'PETBIDS-Onboarding2025':\n",
    "    os.chdir(target_dir)\n",
    "    print(f'Changed working directory to {os.getcwd()}')"
   ]
  },
  {
   "cell_type": "markdown",
   "metadata": {
    "id": "NK8plUDd7SrK"
   },
   "source": [
    "## How we will inspect our data  "
   ]
  },
  {
   "cell_type": "code",
   "execution_count": 2,
   "metadata": {
    "id": "jRJcdednwHWO"
   },
   "outputs": [
    {
     "name": "stdout",
     "output_type": "stream",
     "text": [
      "Contents of c:\\Users\\spn486\\Documents\\GitHub\\outreach\\PETBIDS-Onboarding2025:\n",
      "BIDS_conversion_tutorial_Colab.ipynb\n",
      "BIDS_PET.png\n",
      "PET2BIDS.pdf\n",
      "PETprocessing\n",
      "README.md\n",
      "workflows_apps_derivatives_onboarding_stockholm_2025.pdf\n"
     ]
    }
   ],
   "source": [
    "# List files/folders in a directory (cross-platform, no tree or shell commands)\n",
    "def list_directory(path, file_limit=25):\n",
    "    if os.path.exists(path):\n",
    "        print(f'Contents of {path}:')\n",
    "        for i, item in enumerate(os.listdir(path)):\n",
    "            print(item)\n",
    "            if i >= file_limit - 1:\n",
    "                print('... (file limit reached)')\n",
    "                break\n",
    "    else:\n",
    "        print(f'Directory not found: {path}')\n",
    "\n",
    "# Example usage: list files in current working directory\n",
    "list_directory(os.getcwd())"
   ]
  },
  {
   "cell_type": "markdown",
   "metadata": {
    "id": "enkixkXX7wBc"
   },
   "source": [
    "## Check for dcm2niix and install if it's not present.\n",
    "\n",
    "Additionally, we tell pypet2bids where the dcm2niix executable is located at, this is best practice on windows and any sort of virtual environment/notebook as the $PATH variable can be \"wonky\" in the later case."
   ]
  },
  {
   "cell_type": "code",
   "execution_count": null,
   "metadata": {
    "colab": {
     "base_uri": "https://localhost:8080/"
    },
    "id": "0d5d_WQr061H",
    "outputId": "67727f6b-038b-4811-e9db-db9e7fe7c79d"
   },
   "outputs": [
    {
     "name": "stdout",
     "output_type": "stream",
     "text": [
      "dcm2niix is installed at C:\\Users\\spn486\\Anaconda3\\Library\\bin\\dcm2niix.exe\n",
      "Chris Rorden's dcm2niiX version v1.0.20211006  MSC1916  (64-bit Windows)\n",
      "v1.0.20211006\n",
      "\n"
     ]
    }
   ],
   "source": [
    "# Check for dcm2niix and install if not present (cross-platform)\n",
    "import platform\n",
    "import shutil\n",
    "import subprocess\n",
    "import sys\n",
    "\n",
    "def find_dcm2niix():\n",
    "    exe_name = 'dcm2niix.exe' if platform.system() == 'Windows' else 'dcm2niix'\n",
    "    path = shutil.which(exe_name)\n",
    "    if path:\n",
    "        print(f'dcm2niix is installed at {path}')\n",
    "        version = subprocess.run([path, '--version'], capture_output=True, text=True).stdout\n",
    "        print(version)\n",
    "        return path\n",
    "    else:\n",
    "        print('dcm2niix is not installed.')\n",
    "        if platform.system() == 'Windows':\n",
    "            print('Install with Chocolatey: choco install dcm2niix, or download from https://github.com/rordenlab/dcm2niix/releases and add to PATH.')\n",
    "        elif platform.system() == 'Linux':\n",
    "            print('Install with: sudo apt-get install dcm2niix, or download from https://github.com/rordenlab/dcm2niix/releases')\n",
    "        elif platform.system() == 'Darwin':\n",
    "            print('Install with: brew install dcm2niix, or download from https://github.com/rordenlab/dcm2niix/releases')\n",
    "        else:\n",
    "            print('Please install dcm2niix manually for your OS.')\n",
    "        return None\n",
    "    \n",
    "\n",
    "\n",
    "\n",
    "\n",
    "dcm2niix_path = find_dcm2niix()"
   ]
  },
  {
   "cell_type": "markdown",
   "metadata": {},
   "source": [
    "## Install pypet2bids "
   ]
  },
  {
   "cell_type": "code",
   "execution_count": 23,
   "metadata": {},
   "outputs": [
    {
     "name": "stdout",
     "output_type": "stream",
     "text": [
      "pypet2bids is already installed.\n"
     ]
    }
   ],
   "source": [
    "# install pypet2bids using pip if not already installed\n",
    "try:    \n",
    "    import pypet2bids\n",
    "    print('pypet2bids is already installed.')   \n",
    "except ImportError:\n",
    "    print('Installing pypet2bids...')\n",
    "    subprocess.check_call([sys.executable, '-m', 'pip', 'install', 'pypet2bids'])\n",
    "    import pypet2bids\n",
    "    print('pypet2bids installed successfully.')\n"
   ]
  },
  {
   "cell_type": "code",
   "execution_count": 21,
   "metadata": {},
   "outputs": [
    {
     "name": "stdout",
     "output_type": "stream",
     "text": [
      "usage: dcm2niix4pet [-h] [--metadata-path [METADATA_PATH]]\n",
      "                    [--translation-script-path TRANSLATION_SCRIPT_PATH]\n",
      "                    [--destination-path DESTINATION_PATH] [--tempdir TEMPDIR]\n",
      "                    [--kwargs [KWARGS [KWARGS ...]]] [--silent]\n",
      "                    [--show-examples] [--set-dcm2niix-path SET_DCM2NIIX_PATH]\n",
      "                    [--set-default-metadata-json SET_DEFAULT_METADATA_JSON]\n",
      "                    [--trc TRC] [--run RUN] [--rec REC]\n",
      "                    [folder]\n",
      "version: 1.3.9\n"
     ]
    }
   ],
   "source": [
    "!dcm2niix4pet "
   ]
  },
  {
   "cell_type": "code",
   "execution_count": 22,
   "metadata": {
    "id": "lpozQIn0m0gx"
   },
   "outputs": [],
   "source": [
    "# import other relevant Python packages\n",
    "import numpy\n",
    "import nibabel\n",
    "import nipype\n",
    "import matplotlib\n",
    "import subprocess"
   ]
  },
  {
   "cell_type": "markdown",
   "metadata": {
    "id": "fO7qfZhDKXO9"
   },
   "source": [
    "## Setup the bids-validator\n",
    "This is the easiest way to get the bids validator running on a Colab Notebook, from here on out it can be called with `bids-validator()`"
   ]
  },
  {
   "cell_type": "code",
   "execution_count": 7,
   "metadata": {
    "colab": {
     "base_uri": "https://localhost:8080/"
    },
    "id": "9ex5g0q6Geel",
    "outputId": "5d4ef0cd-a6aa-4e59-e484-f066f7362114"
   },
   "outputs": [
    {
     "name": "stdout",
     "output_type": "stream",
     "text": [
      "\n"
     ]
    }
   ],
   "source": [
    "def bids_validator(path_to_dataset='.'):\n",
    "  validator = subprocess.run(f\"/root/.deno/bin/deno run --allow-read --allow-env https://deno.land/x/bids_validator/bids-validator.ts {path_to_dataset}\", shell=True, capture_output=True, text=True)\n",
    "  print(validator.stdout)\n",
    "\n",
    "bids_validator('')"
   ]
  },
  {
   "cell_type": "markdown",
   "metadata": {},
   "source": [
    "## OpenNeuroPET Phantom Data"
   ]
  },
  {
   "cell_type": "code",
   "execution_count": 8,
   "metadata": {},
   "outputs": [
    {
     "name": "stdout",
     "output_type": "stream",
     "text": [
      "Contents of C:\\Users\\spn486\\Downloads\\PN000001\\OpenNeuroPET-Phantoms:\n",
      "code\n",
      "dataset_description.json\n",
      "LICENSE\n",
      "mynewfolder\n",
      "README\n",
      "sourcedata\n",
      "sub-CanonCartesionPrimeNIA\n",
      "sub-GeneralElectricAdvanceJHU\n",
      "sub-GeneralElectricAdvanceLongNIMH\n",
      "sub-GeneralElectricAdvanceNIMH\n",
      "sub-GeneralElectricDiscoveryAarhus\n",
      "sub-GeneralElectricSignaAarhus\n",
      "sub-GeneralElectricSignaNIMH\n",
      "sub-PhilipsGeminiUnimedizinMainz\n",
      "sub-PhilipsIngenuityPETCTAmsterdamUMC\n",
      "sub-PhilipsIngenuityPETMRAmsterdamUMC\n",
      "sub-PhillipsVereosAmsterdamUMC\n",
      "sub-SiemensBiographNIMH\n",
      "sub-SiemensBiographNRU\n",
      "sub-SiemensHRRTJHU\n",
      "sub-SiemensHRRTNRU\n",
      "sub-SiemensTrioBrainPETFZJ\n"
     ]
    }
   ],
   "source": [
    "# Define where you have downloaded the phantom data (edit this path as needed for your system)\n",
    "\n",
    "# Example: Windows path (raw string recommended)\n",
    "data_dir = r\"C:\\Users\\spn486\\Downloads\\PN000001\\OpenNeuroPET-Phantoms\"\n",
    "\n",
    "# Example: Mac/Linux path (uncomment and edit if needed)\n",
    "# data_dir = \"/home/username/Downloads/PN000001/OpenNeuroPET-Phantoms\"\n",
    "\n",
    "# List contents of phantom data directory\n",
    "list_directory(data_dir)"
   ]
  },
  {
   "cell_type": "markdown",
   "metadata": {
    "id": "cgWcLxDP7fkg"
   },
   "source": [
    "## Take a quick look at the raw dicom and ecat data that we've unzipped into this project folder."
   ]
  },
  {
   "cell_type": "code",
   "execution_count": 9,
   "metadata": {
    "colab": {
     "base_uri": "https://localhost:8080/"
    },
    "id": "oNGqcj0uvzjQ",
    "outputId": "13e51b9a-4aa6-4601-a17b-48cd74510d7e"
   },
   "outputs": [
    {
     "name": "stdout",
     "output_type": "stream",
     "text": [
      "Contents of C:\\Users\\spn486\\Downloads\\PN000001\\OpenNeuroPET-Phantoms\\sourcedata:\n",
      "CanonCartesionPrimePETCT-NIA.zip\n",
      "CPSInnovationsHRRT-NIMH.zip\n",
      "GeneralElectricAdvance-JHU.zip\n",
      "GeneralElectricAdvance-NIMH.zip\n",
      "GeneralElectricDiscoveryPETCT-Aarhus.zip\n",
      "GeneralElectricSignaPETMR-Aarhus.zip\n",
      "GeneralElectricSignaPETMR-NIMH.zip\n",
      "PhilipsGeminiPETMR-Unimedizin.zip\n",
      "PhilipsIngenuityPETCT-AmsterdamUMC.zip\n",
      "PhilipsIngenuityPETMR-AmsterdamUMC.zip\n",
      "PhillipsVereosPETCT-AmsterdamUMC.zip\n",
      "SiemensBiographPETMR-NIMH\n",
      "SiemensBiographPETMR-NIMH.zip\n",
      "SiemensBiographPETMR-NRU\n",
      "SiemensBiographPETMR-NRU.zip\n",
      "SiemensHRRT-JHU.zip\n",
      "SiemensHRRT-NRU.zip\n",
      "SiemensMagnetomTrioBrainPET-FZJ.zip\n"
     ]
    }
   ],
   "source": [
    "# List files in the sourcedata subdirectory of the phantom data directory (cross-platform)\n",
    "\n",
    "sourcedata_dir = os.path.join(data_dir, 'sourcedata')\n",
    "list_directory(sourcedata_dir)"
   ]
  },
  {
   "cell_type": "markdown",
   "metadata": {},
   "source": [
    "Now we will unzip one of the phantom source data folders, namely the SiemensBiographPETMR-NRU folder, and take a look at the contents."
   ]
  },
  {
   "cell_type": "code",
   "execution_count": 10,
   "metadata": {},
   "outputs": [
    {
     "name": "stdout",
     "output_type": "stream",
     "text": [
      "Extracted C:\\Users\\spn486\\Downloads\\PN000001\\OpenNeuroPET-Phantoms\\sourcedata\\SiemensBiographPETMR-NRU.zip to C:\\Users\\spn486\\Downloads\\PN000001\\OpenNeuroPET-Phantoms\\sourcedata\\SiemensBiographPETMR-NRU\n",
      "Extracted C:\\Users\\spn486\\Downloads\\PN000001\\OpenNeuroPET-Phantoms\\sourcedata\\SiemensBiographPETMR-NIMH.zip to C:\\Users\\spn486\\Downloads\\PN000001\\OpenNeuroPET-Phantoms\\sourcedata\\SiemensBiographPETMR-NIMH\n",
      "Contents of C:\\Users\\spn486\\Downloads\\PN000001\\OpenNeuroPET-Phantoms\\sourcedata\\SiemensBiographPETMR-NRU:\n",
      "SiemensBiographPETMR-NRU\n",
      "SiemensBiographPETMR-NRU_Phantom_PetAcquisition_20220421120447_30003.json\n",
      "SiemensBiographPETMR-NRU_Phantom_PetAcquisition_20220421120447_30003.nii\n",
      "SiemensBiographPETMR-NRU_Phantom_PetAcquisition_20220421120447_30003a.json\n",
      "SiemensBiographPETMR-NRU_Phantom_PetAcquisition_20220421120447_30003a.nii\n",
      "Contents of C:\\Users\\spn486\\Downloads\\PN000001\\OpenNeuroPET-Phantoms\\sourcedata\\SiemensBiographPETMR-NIMH:\n",
      "AC_TOF\n",
      "CT\n",
      "NAC\n",
      "SiemensBiographPETMR-NIMH\n",
      "Extracted C:\\Users\\spn486\\Downloads\\PN000001\\OpenNeuroPET-Phantoms\\sourcedata\\SiemensBiographPETMR-NIMH.zip to C:\\Users\\spn486\\Downloads\\PN000001\\OpenNeuroPET-Phantoms\\sourcedata\\SiemensBiographPETMR-NIMH\n",
      "Contents of C:\\Users\\spn486\\Downloads\\PN000001\\OpenNeuroPET-Phantoms\\sourcedata\\SiemensBiographPETMR-NRU:\n",
      "SiemensBiographPETMR-NRU\n",
      "SiemensBiographPETMR-NRU_Phantom_PetAcquisition_20220421120447_30003.json\n",
      "SiemensBiographPETMR-NRU_Phantom_PetAcquisition_20220421120447_30003.nii\n",
      "SiemensBiographPETMR-NRU_Phantom_PetAcquisition_20220421120447_30003a.json\n",
      "SiemensBiographPETMR-NRU_Phantom_PetAcquisition_20220421120447_30003a.nii\n",
      "Contents of C:\\Users\\spn486\\Downloads\\PN000001\\OpenNeuroPET-Phantoms\\sourcedata\\SiemensBiographPETMR-NIMH:\n",
      "AC_TOF\n",
      "CT\n",
      "NAC\n",
      "SiemensBiographPETMR-NIMH\n"
     ]
    }
   ],
   "source": [
    "# Unzip the subfolders SiemensBiographPETMR-NRU.zip and SiemensBiographPETMR-NIMH.zip in the sourcedata folder (cross-platform)\n",
    "import zipfile\n",
    "nruf_zip_path = os.path.join(sourcedata_dir, 'SiemensBiographPETMR-NRU.zip')\n",
    "nruf_extract_path = os.path.join(sourcedata_dir, 'SiemensBiographPETMR-NRU')\n",
    "nimh_zip_path = os.path.join(sourcedata_dir, 'SiemensBiographPETMR-NIMH.zip')\n",
    "nimh_extract_path = os.path.join(sourcedata_dir, 'SiemensBiographPETMR-NIMH')\n",
    "for zip_path, extract_path in [(nruf_zip_path, nruf_extract_path), (nimh_zip_path, nimh_extract_path)]:\n",
    "    if os.path.exists(zip_path):\n",
    "        with zipfile.ZipFile(zip_path, 'r') as zip_ref:\n",
    "            zip_ref.extractall(extract_path)\n",
    "            print(f'Extracted {zip_path} to {extract_path}')\n",
    "    else:\n",
    "        print(f'Zip file not found: {zip_path}')\n",
    "\n",
    "# List files in both extracted directories (cross-platform)\n",
    "list_directory(nruf_extract_path)\n",
    "list_directory(nimh_extract_path)"
   ]
  },
  {
   "cell_type": "markdown",
   "metadata": {
    "id": "MaFn08tY8ZOl"
   },
   "source": [
    "## Examine and convert some dicoms obtained from our PHANTOMS.zip with dcm2niix4pet."
   ]
  },
  {
   "cell_type": "code",
   "execution_count": 11,
   "metadata": {},
   "outputs": [
    {
     "name": "stdout",
     "output_type": "stream",
     "text": [
      "usage: dcm2niix4pet [-h] [--metadata-path [METADATA_PATH]]\n",
      "                    [--translation-script-path TRANSLATION_SCRIPT_PATH]\n",
      "                    [--destination-path DESTINATION_PATH] [--tempdir TEMPDIR]\n",
      "                    [--kwargs [KWARGS [KWARGS ...]]] [--silent]\n",
      "                    [--show-examples] [--set-dcm2niix-path SET_DCM2NIIX_PATH]\n",
      "                    [--set-default-metadata-json SET_DEFAULT_METADATA_JSON]\n",
      "                    [--trc TRC] [--run RUN] [--rec REC]\n",
      "                    [folder]\n",
      "\n",
      "Given a set of PET dicoms and additional metadata dcm2niix converts them to BIDS compliant nifti (using dcm2niix), json, and tsv files.\n",
      "\n",
      "positional arguments:\n",
      "  folder                Folder path containing imaging data\n",
      "\n",
      "optional arguments:\n",
      "  -h, --help            show this help message and exit\n",
      "  --metadata-path [METADATA_PATH], -m [METADATA_PATH]\n",
      "                        Path to metadata file for scan\n",
      "  --translation-script-path TRANSLATION_SCRIPT_PATH, -t TRANSLATION_SCRIPT_PATH\n",
      "                        Path to a script written to extract and transform\n",
      "                        metadata from a spreadsheet to BIDS compliant text\n",
      "                        files (tsv and json)\n",
      "  --destination-path DESTINATION_PATH, -d DESTINATION_PATH\n",
      "                        Destination path to send converted imaging and\n",
      "                        metadata files to. If subject id and session id is\n",
      "                        included in the path files created by dcm2niix4pet\n",
      "                        will be named as such. e.g. sub-NDAR123/ses-ABCD/pet\n",
      "                        will yield fields named sub-NDAR123_ses-ABCD_*. If\n",
      "                        omitted defaults to using the path supplied to folder\n",
      "                        path. If destination path doesn't exist an attempt to\n",
      "                        create it will be made.\n",
      "  --tempdir TEMPDIR     User-specified tempdir location (overrides default\n",
      "                        system tempfile default)\n",
      "  --kwargs [KWARGS [KWARGS ...]], -k [KWARGS [KWARGS ...]]\n",
      "                        Include additional values in the nifti sidecar json or\n",
      "                        override values extracted from the supplied nifti.\n",
      "                        e.g. including `--kwargs TimeZero=\"12:12:12\"` would\n",
      "                        override the calculated TimeZero. Any number of\n",
      "                        additional arguments can be supplied after --kwargs\n",
      "                        e.g. `--kwargs BidsVariable1=1 BidsVariable2=2` etc\n",
      "                        etc.Note: the value portion of the argument (right\n",
      "                        side of the equal's sign) should alwaysbe surrounded\n",
      "                        by double quotes BidsVarQuoted=\"[0, 1 , 3]\"\n",
      "  --silent, -s          Hide missing metadata warnings and errors to\n",
      "                        stdout/stderr\n",
      "  --show-examples, -E, --HELP, -H\n",
      "                        Shows example usage of this cli.\n",
      "  --set-dcm2niix-path SET_DCM2NIIX_PATH\n",
      "                        Provide a path to a dcm2niix install/exe, writes path\n",
      "                        to config file C:\\Users\\spn486/.pet2bidsconfig under\n",
      "                        the variable DCM2NIIX_PATH\n",
      "  --set-default-metadata-json SET_DEFAULT_METADATA_JSON\n",
      "                        Provide a path to a default metadata file json\n",
      "                        file.This file will be used to fill in missing\n",
      "                        metadata notcontained within dicom headers or\n",
      "                        spreadsheet metadata.Sets given path to\n",
      "                        DEFAULT_METADATA_JSON var in\n",
      "                        C:\\Users\\spn486/.pet2bidsconfig\n",
      "  --trc TRC, --tracer TRC\n",
      "                        Provide a tracer name to be used in the output file\n",
      "                        name\n",
      "  --run RUN             Provide a run id to be used in the output file name\n",
      "  --rec REC             Provide a reconstruction method to be used in the\n",
      "                        output file name\n",
      "\n",
      "example usage:\n",
      "\n",
      "dcm2niix4pet folder_with_pet_dicoms/ --destinationp-path sub-ValidBidSSubject/pet # the simplest conversion\n",
      "dcm2niix4pet folder_with_pet_dicoms/ --destination-path sub-ValidBidsSubject/pet --metadata-path metadata.xlsx     # use with an input spreadsheet\n",
      "\n"
     ]
    }
   ],
   "source": [
    "# Check dcm2niix4pet help/usage options\n",
    "import subprocess\n",
    "result = subprocess.run([\"dcm2niix4pet\", \"--help\"], capture_output=True, text=True)\n",
    "print(result.stdout)\n",
    "if result.stderr:\n",
    "    print(\"Error:\", result.stderr)"
   ]
  },
  {
   "cell_type": "code",
   "execution_count": 12,
   "metadata": {
    "colab": {
     "base_uri": "https://localhost:8080/"
    },
    "id": "K_No-S4Awa7N",
    "outputId": "6b9b7c02-d52a-41c8-d1c4-96f0676fec6a"
   },
   "outputs": [
    {
     "name": "stdout",
     "output_type": "stream",
     "text": [
      "Input directory contents:\n",
      "Contents of C:\\Users\\spn486\\Downloads\\PN000001\\OpenNeuroPET-Phantoms\\sourcedata\\SiemensBiographPETMR-NIMH\\AC_TOF:\n",
      "RESBRAIN_PHANTOM.PT.PET_PET_BRAIN_115MA_FDG_(ADULT).0003.0001.2021.05.04.09.18.07.924763.73825419.IMA\n",
      "RESBRAIN_PHANTOM.PT.PET_PET_BRAIN_115MA_FDG_(ADULT).0003.0002.2021.05.04.09.18.07.924763.73825433.IMA\n",
      "RESBRAIN_PHANTOM.PT.PET_PET_BRAIN_115MA_FDG_(ADULT).0003.0003.2021.05.04.09.18.07.924763.73825447.IMA\n",
      "RESBRAIN_PHANTOM.PT.PET_PET_BRAIN_115MA_FDG_(ADULT).0003.0004.2021.05.04.09.18.07.924763.73825461.IMA\n",
      "RESBRAIN_PHANTOM.PT.PET_PET_BRAIN_115MA_FDG_(ADULT).0003.0005.2021.05.04.09.18.07.924763.73825475.IMA\n",
      "RESBRAIN_PHANTOM.PT.PET_PET_BRAIN_115MA_FDG_(ADULT).0003.0006.2021.05.04.09.18.07.924763.73825489.IMA\n",
      "RESBRAIN_PHANTOM.PT.PET_PET_BRAIN_115MA_FDG_(ADULT).0003.0007.2021.05.04.09.18.07.924763.73825503.IMA\n",
      "RESBRAIN_PHANTOM.PT.PET_PET_BRAIN_115MA_FDG_(ADULT).0003.0008.2021.05.04.09.18.07.924763.73825517.IMA\n",
      "RESBRAIN_PHANTOM.PT.PET_PET_BRAIN_115MA_FDG_(ADULT).0003.0009.2021.05.04.09.18.07.924763.73825531.IMA\n",
      "RESBRAIN_PHANTOM.PT.PET_PET_BRAIN_115MA_FDG_(ADULT).0003.0010.2021.05.04.09.18.07.924763.73825545.IMA\n",
      "RESBRAIN_PHANTOM.PT.PET_PET_BRAIN_115MA_FDG_(ADULT).0003.0011.2021.05.04.09.18.07.924763.73825559.IMA\n",
      "RESBRAIN_PHANTOM.PT.PET_PET_BRAIN_115MA_FDG_(ADULT).0003.0012.2021.05.04.09.18.07.924763.73825573.IMA\n",
      "RESBRAIN_PHANTOM.PT.PET_PET_BRAIN_115MA_FDG_(ADULT).0003.0013.2021.05.04.09.18.07.924763.73825587.IMA\n",
      "RESBRAIN_PHANTOM.PT.PET_PET_BRAIN_115MA_FDG_(ADULT).0003.0014.2021.05.04.09.18.07.924763.73825601.IMA\n",
      "RESBRAIN_PHANTOM.PT.PET_PET_BRAIN_115MA_FDG_(ADULT).0003.0015.2021.05.04.09.18.07.924763.73825615.IMA\n",
      "RESBRAIN_PHANTOM.PT.PET_PET_BRAIN_115MA_FDG_(ADULT).0003.0016.2021.05.04.09.18.07.924763.73825629.IMA\n",
      "RESBRAIN_PHANTOM.PT.PET_PET_BRAIN_115MA_FDG_(ADULT).0003.0017.2021.05.04.09.18.07.924763.73825643.IMA\n",
      "RESBRAIN_PHANTOM.PT.PET_PET_BRAIN_115MA_FDG_(ADULT).0003.0018.2021.05.04.09.18.07.924763.73825657.IMA\n",
      "RESBRAIN_PHANTOM.PT.PET_PET_BRAIN_115MA_FDG_(ADULT).0003.0019.2021.05.04.09.18.07.924763.73825671.IMA\n",
      "RESBRAIN_PHANTOM.PT.PET_PET_BRAIN_115MA_FDG_(ADULT).0003.0020.2021.05.04.09.18.07.924763.73825685.IMA\n",
      "RESBRAIN_PHANTOM.PT.PET_PET_BRAIN_115MA_FDG_(ADULT).0003.0021.2021.05.04.09.18.07.924763.73825699.IMA\n",
      "RESBRAIN_PHANTOM.PT.PET_PET_BRAIN_115MA_FDG_(ADULT).0003.0022.2021.05.04.09.18.07.924763.73825713.IMA\n",
      "RESBRAIN_PHANTOM.PT.PET_PET_BRAIN_115MA_FDG_(ADULT).0003.0023.2021.05.04.09.18.07.924763.73825727.IMA\n",
      "RESBRAIN_PHANTOM.PT.PET_PET_BRAIN_115MA_FDG_(ADULT).0003.0024.2021.05.04.09.18.07.924763.73825741.IMA\n",
      "RESBRAIN_PHANTOM.PT.PET_PET_BRAIN_115MA_FDG_(ADULT).0003.0025.2021.05.04.09.18.07.924763.73825755.IMA\n",
      "... (file limit reached)\n",
      "Output directory will be: C:\\Users\\spn486\\Downloads\\PN000001\\OpenNeuroPET-Phantoms\\mynewfolder\n",
      "dcm2niix path: C:\\Users\\spn486\\Anaconda3\\Library\\bin\\dcm2niix.exe\n"
     ]
    },
    {
     "data": {
      "text/plain": [
       "'\\nresult = subprocess.run(cmd, capture_output=True, text=True)\\nprint(result.stdout)\\nif result.stderr:\\n    print(\"Error:\", result.stderr)\\n    '"
      ]
     },
     "execution_count": 12,
     "metadata": {},
     "output_type": "execute_result"
    }
   ],
   "source": [
    "# Run dcm2niix4pet to convert DICOMs to BIDS format (cross-platform)\n",
    "\n",
    "input_dir = os.path.join(data_dir, \"sourcedata\", \"SiemensBiographPETMR-NIMH\", \"AC_TOF\")\n",
    "output_dir = os.path.join(data_dir, \"mynewfolder\")\n",
    "os.makedirs(output_dir, exist_ok=True)\n",
    "\n",
    "print(\"Input directory contents:\")\n",
    "list_directory(input_dir)\n",
    "print(\"Output directory will be:\", output_dir)\n",
    "print(\"dcm2niix path:\", dcm2niix_path)\n",
    "\n",
    "#cmd = [\"dcm2niix4pet\", input_dir, \"--destination-path\", output_dir,\"--set-dcm2niix-path\", dcm2niix_path]\n",
    "\n",
    "!dcm2niix4pet \"{input_dir}\" --destination-path \"{output_dir}\" --set-dcm2niix-path \"{dcm2niix_path}\"\n",
    "\n",
    "'''\n",
    "result = subprocess.run(cmd, capture_output=True, text=True)\n",
    "print(result.stdout)\n",
    "if result.stderr:\n",
    "    print(\"Error:\", result.stderr)\n",
    "    '''"
   ]
  },
  {
   "cell_type": "code",
   "execution_count": 13,
   "metadata": {
    "colab": {
     "base_uri": "https://localhost:8080/"
    },
    "id": "pm3Hgam_1lvR",
    "outputId": "5c633fcb-5931-4ecf-e492-e1ba64105ad8"
   },
   "outputs": [
    {
     "name": "stdout",
     "output_type": "stream",
     "text": [
      "Contents of C:\\Users\\spn486\\Downloads\\PN000001\\OpenNeuroPET-Phantoms\\mynewfolder:\n"
     ]
    }
   ],
   "source": [
    "# List files in the 'mynewfolder' directory (cross-platform)\n",
    "\n",
    "list_directory(output_dir)"
   ]
  },
  {
   "cell_type": "markdown",
   "metadata": {
    "id": "JDJwP8IqCwfk"
   },
   "source": [
    "I could also add additional information regarding my data using additional flags:"
   ]
  },
  {
   "cell_type": "code",
   "execution_count": 14,
   "metadata": {
    "colab": {
     "base_uri": "https://localhost:8080/"
    },
    "id": "v1xM2hVK1pCF",
    "outputId": "d1c6c089-f4d1-445e-9fcf-087959c05a08"
   },
   "outputs": [
    {
     "name": "stdout",
     "output_type": "stream",
     "text": [
      "\n"
     ]
    }
   ],
   "source": [
    "# Run dcm2niix4pet with additional kwargs using Python subprocess (cross-platform)\n",
    "import os\n",
    "import subprocess\n",
    "\n",
    "input_dir = os.path.join(data_dir, \"sourcedata\", \"SiemensBiographPETMR-NIMH\", \"AC_TOF\")\n",
    "output_dir = \"mynewfolder2\"\n",
    "\n",
    "kwargs = [\n",
    "    \"TimeZero=ScanStart\",\n",
    "    \"Manufacturer=Siemens\",\n",
    "    \"ManufacturersModelName=Biograph\",\n",
    "    \"InstitutionName=NIH Clinical Center\",\n",
    "    \"BodyPart=Phantom\",\n",
    "    \"Units=Bq/mL\",\n",
    "    \"TracerName=none\",\n",
    "    \"TracerRadionuclide=F18\",\n",
    "    \"InjectedRadioactivity=81.24\",\n",
    "    \"SpecificRadioactivity=13019.23\",\n",
    "    \"ModeOfAdministration=infusion\",\n",
    "    \"FrameTimesStart=0\",\n",
    "    \"AcquisitionMode=list mode\",\n",
    "    \"ImageDecayCorrected=true\",\n",
    "    \"ImageDecayCorrectionTime=0\",\n",
    "    \"AttenuationCorrection=MR-corrected\",\n",
    "    \"FrameDuration=300\",\n",
    "    \"FrameTimesStart=0\"\n",
    "]\n",
    "\n",
    "cmd = [\"dcm2niix4pet\", input_dir, \"-d\", output_dir, \"--set-dcm2niix-path\", dcm2niix_path, \"--kwargs\"] + kwargs\n",
    "result = subprocess.run(cmd, capture_output=True, text=True)\n",
    "print(result.stdout)\n",
    "if result.stderr:\n",
    "    print(\"Error:\", result.stderr)"
   ]
  },
  {
   "cell_type": "markdown",
   "metadata": {
    "id": "6ngARxyhCCZi"
   },
   "source": [
    "Now check if we have created a valid BIDS dataset"
   ]
  },
  {
   "cell_type": "code",
   "execution_count": 15,
   "metadata": {
    "colab": {
     "base_uri": "https://localhost:8080/"
    },
    "id": "zvNs8We_CFyn",
    "outputId": "5f844dd9-ec14-4407-e2ef-62bbd80a0315"
   },
   "outputs": [
    {
     "name": "stdout",
     "output_type": "stream",
     "text": [
      "\n"
     ]
    }
   ],
   "source": [
    "bids_validator('./mynewfolder2')"
   ]
  },
  {
   "cell_type": "markdown",
   "metadata": {
    "id": "tIAU_-u5CHIo"
   },
   "source": [
    "Hmm, what is wrong? Let's look at our file tree again."
   ]
  },
  {
   "cell_type": "code",
   "execution_count": 16,
   "metadata": {
    "colab": {
     "base_uri": "https://localhost:8080/"
    },
    "id": "7pHU3qheCLnX",
    "outputId": "c89785e4-6db3-49f8-e1f2-ced6dc1f8dc8"
   },
   "outputs": [
    {
     "name": "stdout",
     "output_type": "stream",
     "text": [
      "Folder PATH listing for volume Windows\n",
      "Volume serial number is 0000009C FA70:B0C2\n",
      "C:\\USERS\\SPN486\\DOCUMENTS\\GITHUB\\OUTREACH\\PETBIDS-ONBOARDING2025\\MYNEWFOLDER2\n",
      "Invalid path - \\USERS\\SPN486\\DOCUMENTS\\GITHUB\\OUTREACH\\PETBIDS-ONBOARDING2025\\MYNEWFOLDER2\n",
      "No subfolders exist \n",
      "\n"
     ]
    }
   ],
   "source": [
    "!tree ./mynewfolder2"
   ]
  },
  {
   "cell_type": "markdown",
   "metadata": {
    "id": "DovHIg5bCPT7"
   },
   "source": [
    "Basically we have created the appropriate .nii.gz and .json files, but we haven't followed the proper BIDS naming convention!\n",
    "\n",
    "We have done this for you here:"
   ]
  },
  {
   "cell_type": "code",
   "execution_count": 17,
   "metadata": {
    "colab": {
     "base_uri": "https://localhost:8080/"
    },
    "id": "UjFFI1pCCOud",
    "outputId": "ec58ca19-8325-44e2-cd9d-729f0840e1f3"
   },
   "outputs": [
    {
     "name": "stdout",
     "output_type": "stream",
     "text": [
      "Too many parameters - --filelimit\n"
     ]
    }
   ],
   "source": [
    "!tree ./OpenNeuroPET-Phantoms/sub-SiemensBiographNIMH/ --filelimit 15"
   ]
  },
  {
   "cell_type": "markdown",
   "metadata": {
    "id": "ZAh92wi4MkP9"
   },
   "source": [
    "Now let's validate this.\n",
    "\n"
   ]
  },
  {
   "cell_type": "code",
   "execution_count": 18,
   "metadata": {
    "colab": {
     "base_uri": "https://localhost:8080/"
    },
    "id": "5DmpchGbMv2C",
    "outputId": "84afb05f-7445-464d-9707-21c34a29334b"
   },
   "outputs": [
    {
     "name": "stdout",
     "output_type": "stream",
     "text": [
      "\n"
     ]
    }
   ],
   "source": [
    "bids_validator('./OpenNeuroPET-Phantoms/sub-SiemensBiographNIMH/')"
   ]
  },
  {
   "cell_type": "markdown",
   "metadata": {
    "id": "I9pyyyWnMwV_"
   },
   "source": [
    "Strictky speaking this only works since we actually have also added a dataset_description file to the file tree. See here:"
   ]
  },
  {
   "cell_type": "code",
   "execution_count": 19,
   "metadata": {
    "colab": {
     "base_uri": "https://localhost:8080/"
    },
    "id": "QORvwik6MZyW",
    "outputId": "eaed5554-035c-46fe-8b90-0520c963dafe"
   },
   "outputs": [
    {
     "name": "stdout",
     "output_type": "stream",
     "text": [
      "Too many parameters - --filelimit\n"
     ]
    }
   ],
   "source": [
    "!tree ./OpenNeuroPET-Phantoms/ --filelimit 15"
   ]
  },
  {
   "cell_type": "markdown",
   "metadata": {
    "id": "mrqQYEMWNHPJ"
   },
   "source": [
    "So even though there are libraries that do part of the BIDS conversion for you, there is often some manual work to be done wrt file renaming or adding additional files on top.\n",
    "\n",
    "Converters like EZBids or BIDScoin try to even alleviate this burden.\n",
    "\n",
    "We will play with EZBids!\n",
    "\n",
    "Go to [EZBids](https://brainlife.io/ezbids/)"
   ]
  }
 ],
 "metadata": {
  "colab": {
   "provenance": []
  },
  "kernelspec": {
   "display_name": "base",
   "language": "python",
   "name": "python3"
  },
  "language_info": {
   "codemirror_mode": {
    "name": "ipython",
    "version": 3
   },
   "file_extension": ".py",
   "mimetype": "text/x-python",
   "name": "python",
   "nbconvert_exporter": "python",
   "pygments_lexer": "ipython3",
   "version": "3.8.16"
  }
 },
 "nbformat": 4,
 "nbformat_minor": 0
}
